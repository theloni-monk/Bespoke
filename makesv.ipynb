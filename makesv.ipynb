{
 "cells": [
  {
   "cell_type": "code",
   "execution_count": 1,
   "metadata": {},
   "outputs": [
    {
     "name": "stdout",
     "output_type": "stream",
     "text": [
      "============== Diagnostic Run torch.onnx.export version 2.0.1+cpu ==============\n",
      "verbose: False, log level: Level.ERROR\n",
      "======================= 0 NONE 0 NOTE 0 WARNING 0 ERROR ========================\n",
      "\n"
     ]
    }
   ],
   "source": [
    "from pprint import pprint\n",
    "\n",
    "import torch\n",
    "import torch.nn as nn\n",
    "import torch.onnx\n",
    "\n",
    "\n",
    "class TestModel(nn.Module):\n",
    "    def __init__(self):\n",
    "        super().__init__()\n",
    "        self.linear = nn.Linear(8, 4, True)\n",
    "        self.relu = nn.ReLU()\n",
    "    def forward(self, x):\n",
    "        return self.relu(self.linear(x))\n",
    "model = TestModel()\n",
    "dummy_input = torch.zeros(8)\n",
    "torch.onnx.export(model, dummy_input, \"singlelayer.onnx\", verbose=True)"
   ]
  },
  {
   "cell_type": "code",
   "execution_count": 2,
   "metadata": {},
   "outputs": [
    {
     "name": "stdout",
     "output_type": "stream",
     "text": [
      "graph torch_jit (\n",
      "  %onnx::MatMul_0[FLOAT, 8]\n",
      ") initializers (\n",
      "  %linear.bias[FLOAT, 4]\n",
      "  %onnx::MatMul_7[FLOAT, 8x4]\n",
      ") {\n",
      "  %/linear/MatMul_output_0 = MatMul(%onnx::MatMul_0, %onnx::MatMul_7)\n",
      "  %/linear/Add_output_0 = Add(%linear.bias, %/linear/MatMul_output_0)\n",
      "  %6 = Relu(%/linear/Add_output_0)\n",
      "  return %6\n",
      "}\n"
     ]
    }
   ],
   "source": [
    "import onnx\n",
    "\n",
    "# Load the ONNX model\n",
    "onnx_model = onnx.load(\"singlelayer.onnx\")\n",
    "onnx_model = onnx.shape_inference .infer_shapes(onnx_model)\n",
    "# Check that the model is well formed\n",
    "onnx.checker.check_model(onnx_model)\n",
    "\n",
    "# Print a human readable representation of the graph\n",
    "print(onnx.helper.printable_graph(onnx_model.graph))"
   ]
  },
  {
   "cell_type": "code",
   "execution_count": 3,
   "metadata": {},
   "outputs": [
    {
     "name": "stdout",
     "output_type": "stream",
     "text": [
      "dims: 4\n",
      "data_type: 1\n",
      "name: \"linear.bias\"\n",
      "raw_data: \"@\\266\\026\\274J\\206u>\\314\\372\\246\\275a\\204\\244\\276\"\n",
      "\n",
      "dims: 8\n",
      "dims: 4\n",
      "data_type: 1\n",
      "name: \"onnx::MatMul_7\"\n",
      "raw_data: \"\\n\\233\\227\\276\\215\\333\\241>\\203\\360\\224>:\\323\\242\\276\\243&\\260\\276\\371\\201\\241>\\274\\333\\027\\276N\\236_\\276\\013\\246Q\\276\\371\\323\\242>Y\\264\\232>E0\\223>1Z\\257>\\001\\334\\227>\\n\\263q>\\345\\334\\222\\276 \\201\\021>8u9=\\253g\\262>\\3605\\272<\\213\\246\\224\\276x\\354\\346===\\225\\2760\\303&=\\304E\\237\\276\\017e\\256>\\322ch>0\\026\\345<V\\214]>\\021\\030\\217>@\\377\\304\\275\\212\\365\\007\\276\"\n",
      "\n",
      "input: \"onnx::MatMul_0\"\n",
      "input: \"onnx::MatMul_7\"\n",
      "output: \"/linear/MatMul_output_0\"\n",
      "name: \"/linear/MatMul\"\n",
      "op_type: \"MatMul\"\n",
      "doc_string: \"C:\\\\Users\\\\TheoA\\\\AppData\\\\Roaming\\\\Python\\\\Python39\\\\site-packages\\\\torch\\\\nn\\\\modules\\\\linear.py(114): forward\\nC:\\\\Users\\\\TheoA\\\\AppData\\\\Roaming\\\\Python\\\\Python39\\\\site-packages\\\\torch\\\\nn\\\\modules\\\\module.py(1488): _slow_forward\\nC:\\\\Users\\\\TheoA\\\\AppData\\\\Roaming\\\\Python\\\\Python39\\\\site-packages\\\\torch\\\\nn\\\\modules\\\\module.py(1501): _call_impl\\nC:\\\\Users\\\\TheoA\\\\AppData\\\\Local\\\\Temp\\\\ipykernel_37580\\\\3150438279.py(14): forward\\nC:\\\\Users\\\\TheoA\\\\AppData\\\\Roaming\\\\Python\\\\Python39\\\\site-packages\\\\torch\\\\nn\\\\modules\\\\module.py(1488): _slow_forward\\nC:\\\\Users\\\\TheoA\\\\AppData\\\\Roaming\\\\Python\\\\Python39\\\\site-packages\\\\torch\\\\nn\\\\modules\\\\module.py(1501): _call_impl\\nC:\\\\Users\\\\TheoA\\\\AppData\\\\Roaming\\\\Python\\\\Python39\\\\site-packages\\\\torch\\\\jit\\\\_trace.py(118): wrapper\\nC:\\\\Users\\\\TheoA\\\\AppData\\\\Roaming\\\\Python\\\\Python39\\\\site-packages\\\\torch\\\\jit\\\\_trace.py(127): forward\\nC:\\\\Users\\\\TheoA\\\\AppData\\\\Roaming\\\\Python\\\\Python39\\\\site-packages\\\\torch\\\\nn\\\\modules\\\\module.py(1501): _call_impl\\nC:\\\\Users\\\\TheoA\\\\AppData\\\\Roaming\\\\Python\\\\Python39\\\\site-packages\\\\torch\\\\jit\\\\_trace.py(1268): _get_trace_graph\\nC:\\\\Users\\\\TheoA\\\\AppData\\\\Roaming\\\\Python\\\\Python39\\\\site-packages\\\\torch\\\\onnx\\\\utils.py(893): _trace_and_get_graph_from_model\\nC:\\\\Users\\\\TheoA\\\\AppData\\\\Roaming\\\\Python\\\\Python39\\\\site-packages\\\\torch\\\\onnx\\\\utils.py(989): _create_jit_graph\\nC:\\\\Users\\\\TheoA\\\\AppData\\\\Roaming\\\\Python\\\\Python39\\\\site-packages\\\\torch\\\\onnx\\\\utils.py(1113): _model_to_graph\\nC:\\\\Users\\\\TheoA\\\\AppData\\\\Roaming\\\\Python\\\\Python39\\\\site-packages\\\\torch\\\\onnx\\\\utils.py(1548): _export\\nC:\\\\Users\\\\TheoA\\\\AppData\\\\Roaming\\\\Python\\\\Python39\\\\site-packages\\\\torch\\\\onnx\\\\utils.py(506): export\\nC:\\\\Users\\\\TheoA\\\\AppData\\\\Local\\\\Temp\\\\ipykernel_37580\\\\3150438279.py(17): <module>\\nC:\\\\Users\\\\TheoA\\\\AppData\\\\Roaming\\\\Python\\\\Python39\\\\site-packages\\\\IPython\\\\core\\\\interactiveshell.py(3433): run_code\\nC:\\\\Users\\\\TheoA\\\\AppData\\\\Roaming\\\\Python\\\\Python39\\\\site-packages\\\\IPython\\\\core\\\\interactiveshell.py(3373): run_ast_nodes\\nC:\\\\Users\\\\TheoA\\\\AppData\\\\Roaming\\\\Python\\\\Python39\\\\site-packages\\\\IPython\\\\core\\\\interactiveshell.py(3194): run_cell_async\\nC:\\\\Users\\\\TheoA\\\\AppData\\\\Roaming\\\\Python\\\\Python39\\\\site-packages\\\\IPython\\\\core\\\\async_helpers.py(129): _pseudo_sync_runner\\nC:\\\\Users\\\\TheoA\\\\AppData\\\\Roaming\\\\Python\\\\Python39\\\\site-packages\\\\IPython\\\\core\\\\interactiveshell.py(2995): _run_cell\\nC:\\\\Users\\\\TheoA\\\\AppData\\\\Roaming\\\\Python\\\\Python39\\\\site-packages\\\\IPython\\\\core\\\\interactiveshell.py(2940): run_cell\\nC:\\\\Users\\\\TheoA\\\\AppData\\\\Roaming\\\\Python\\\\Python39\\\\site-packages\\\\ipykernel\\\\zmqshell.py(530): run_cell\\nC:\\\\Users\\\\TheoA\\\\AppData\\\\Roaming\\\\Python\\\\Python39\\\\site-packages\\\\ipykernel\\\\ipkernel.py(411): do_execute\\nC:\\\\Users\\\\TheoA\\\\AppData\\\\Roaming\\\\Python\\\\Python39\\\\site-packages\\\\ipykernel\\\\kernelbase.py(729): execute_request\\nC:\\\\Users\\\\TheoA\\\\AppData\\\\Roaming\\\\Python\\\\Python39\\\\site-packages\\\\ipykernel\\\\kernelbase.py(406): dispatch_shell\\nC:\\\\Users\\\\TheoA\\\\AppData\\\\Roaming\\\\Python\\\\Python39\\\\site-packages\\\\ipykernel\\\\kernelbase.py(499): process_one\\nC:\\\\Users\\\\TheoA\\\\AppData\\\\Roaming\\\\Python\\\\Python39\\\\site-packages\\\\ipykernel\\\\kernelbase.py(510): dispatch_queue\\nc:\\\\Users\\\\TheoA\\\\Anaconda3\\\\envs\\\\bespoke\\\\lib\\\\asyncio\\\\events.py(80): _run\\nc:\\\\Users\\\\TheoA\\\\Anaconda3\\\\envs\\\\bespoke\\\\lib\\\\asyncio\\\\base_events.py(1905): _run_once\\nc:\\\\Users\\\\TheoA\\\\Anaconda3\\\\envs\\\\bespoke\\\\lib\\\\asyncio\\\\base_events.py(601): run_forever\\nC:\\\\Users\\\\TheoA\\\\AppData\\\\Roaming\\\\Python\\\\Python39\\\\site-packages\\\\tornado\\\\platform\\\\asyncio.py(215): start\\nC:\\\\Users\\\\TheoA\\\\AppData\\\\Roaming\\\\Python\\\\Python39\\\\site-packages\\\\ipykernel\\\\kernelapp.py(711): start\\nC:\\\\Users\\\\TheoA\\\\AppData\\\\Roaming\\\\Python\\\\Python39\\\\site-packages\\\\traitlets\\\\config\\\\application.py(1041): launch_instance\\nC:\\\\Users\\\\TheoA\\\\AppData\\\\Roaming\\\\Python\\\\Python39\\\\site-packages\\\\ipykernel_launcher.py(17): <module>\\nc:\\\\Users\\\\TheoA\\\\Anaconda3\\\\envs\\\\bespoke\\\\lib\\\\runpy.py(87): _run_code\\nc:\\\\Users\\\\TheoA\\\\Anaconda3\\\\envs\\\\bespoke\\\\lib\\\\runpy.py(197): _run_module_as_main\\n\"\n",
      "\n",
      "input: \"linear.bias\"\n",
      "input: \"/linear/MatMul_output_0\"\n",
      "output: \"/linear/Add_output_0\"\n",
      "name: \"/linear/Add\"\n",
      "op_type: \"Add\"\n",
      "doc_string: \"C:\\\\Users\\\\TheoA\\\\AppData\\\\Roaming\\\\Python\\\\Python39\\\\site-packages\\\\torch\\\\nn\\\\modules\\\\linear.py(114): forward\\nC:\\\\Users\\\\TheoA\\\\AppData\\\\Roaming\\\\Python\\\\Python39\\\\site-packages\\\\torch\\\\nn\\\\modules\\\\module.py(1488): _slow_forward\\nC:\\\\Users\\\\TheoA\\\\AppData\\\\Roaming\\\\Python\\\\Python39\\\\site-packages\\\\torch\\\\nn\\\\modules\\\\module.py(1501): _call_impl\\nC:\\\\Users\\\\TheoA\\\\AppData\\\\Local\\\\Temp\\\\ipykernel_37580\\\\3150438279.py(14): forward\\nC:\\\\Users\\\\TheoA\\\\AppData\\\\Roaming\\\\Python\\\\Python39\\\\site-packages\\\\torch\\\\nn\\\\modules\\\\module.py(1488): _slow_forward\\nC:\\\\Users\\\\TheoA\\\\AppData\\\\Roaming\\\\Python\\\\Python39\\\\site-packages\\\\torch\\\\nn\\\\modules\\\\module.py(1501): _call_impl\\nC:\\\\Users\\\\TheoA\\\\AppData\\\\Roaming\\\\Python\\\\Python39\\\\site-packages\\\\torch\\\\jit\\\\_trace.py(118): wrapper\\nC:\\\\Users\\\\TheoA\\\\AppData\\\\Roaming\\\\Python\\\\Python39\\\\site-packages\\\\torch\\\\jit\\\\_trace.py(127): forward\\nC:\\\\Users\\\\TheoA\\\\AppData\\\\Roaming\\\\Python\\\\Python39\\\\site-packages\\\\torch\\\\nn\\\\modules\\\\module.py(1501): _call_impl\\nC:\\\\Users\\\\TheoA\\\\AppData\\\\Roaming\\\\Python\\\\Python39\\\\site-packages\\\\torch\\\\jit\\\\_trace.py(1268): _get_trace_graph\\nC:\\\\Users\\\\TheoA\\\\AppData\\\\Roaming\\\\Python\\\\Python39\\\\site-packages\\\\torch\\\\onnx\\\\utils.py(893): _trace_and_get_graph_from_model\\nC:\\\\Users\\\\TheoA\\\\AppData\\\\Roaming\\\\Python\\\\Python39\\\\site-packages\\\\torch\\\\onnx\\\\utils.py(989): _create_jit_graph\\nC:\\\\Users\\\\TheoA\\\\AppData\\\\Roaming\\\\Python\\\\Python39\\\\site-packages\\\\torch\\\\onnx\\\\utils.py(1113): _model_to_graph\\nC:\\\\Users\\\\TheoA\\\\AppData\\\\Roaming\\\\Python\\\\Python39\\\\site-packages\\\\torch\\\\onnx\\\\utils.py(1548): _export\\nC:\\\\Users\\\\TheoA\\\\AppData\\\\Roaming\\\\Python\\\\Python39\\\\site-packages\\\\torch\\\\onnx\\\\utils.py(506): export\\nC:\\\\Users\\\\TheoA\\\\AppData\\\\Local\\\\Temp\\\\ipykernel_37580\\\\3150438279.py(17): <module>\\nC:\\\\Users\\\\TheoA\\\\AppData\\\\Roaming\\\\Python\\\\Python39\\\\site-packages\\\\IPython\\\\core\\\\interactiveshell.py(3433): run_code\\nC:\\\\Users\\\\TheoA\\\\AppData\\\\Roaming\\\\Python\\\\Python39\\\\site-packages\\\\IPython\\\\core\\\\interactiveshell.py(3373): run_ast_nodes\\nC:\\\\Users\\\\TheoA\\\\AppData\\\\Roaming\\\\Python\\\\Python39\\\\site-packages\\\\IPython\\\\core\\\\interactiveshell.py(3194): run_cell_async\\nC:\\\\Users\\\\TheoA\\\\AppData\\\\Roaming\\\\Python\\\\Python39\\\\site-packages\\\\IPython\\\\core\\\\async_helpers.py(129): _pseudo_sync_runner\\nC:\\\\Users\\\\TheoA\\\\AppData\\\\Roaming\\\\Python\\\\Python39\\\\site-packages\\\\IPython\\\\core\\\\interactiveshell.py(2995): _run_cell\\nC:\\\\Users\\\\TheoA\\\\AppData\\\\Roaming\\\\Python\\\\Python39\\\\site-packages\\\\IPython\\\\core\\\\interactiveshell.py(2940): run_cell\\nC:\\\\Users\\\\TheoA\\\\AppData\\\\Roaming\\\\Python\\\\Python39\\\\site-packages\\\\ipykernel\\\\zmqshell.py(530): run_cell\\nC:\\\\Users\\\\TheoA\\\\AppData\\\\Roaming\\\\Python\\\\Python39\\\\site-packages\\\\ipykernel\\\\ipkernel.py(411): do_execute\\nC:\\\\Users\\\\TheoA\\\\AppData\\\\Roaming\\\\Python\\\\Python39\\\\site-packages\\\\ipykernel\\\\kernelbase.py(729): execute_request\\nC:\\\\Users\\\\TheoA\\\\AppData\\\\Roaming\\\\Python\\\\Python39\\\\site-packages\\\\ipykernel\\\\kernelbase.py(406): dispatch_shell\\nC:\\\\Users\\\\TheoA\\\\AppData\\\\Roaming\\\\Python\\\\Python39\\\\site-packages\\\\ipykernel\\\\kernelbase.py(499): process_one\\nC:\\\\Users\\\\TheoA\\\\AppData\\\\Roaming\\\\Python\\\\Python39\\\\site-packages\\\\ipykernel\\\\kernelbase.py(510): dispatch_queue\\nc:\\\\Users\\\\TheoA\\\\Anaconda3\\\\envs\\\\bespoke\\\\lib\\\\asyncio\\\\events.py(80): _run\\nc:\\\\Users\\\\TheoA\\\\Anaconda3\\\\envs\\\\bespoke\\\\lib\\\\asyncio\\\\base_events.py(1905): _run_once\\nc:\\\\Users\\\\TheoA\\\\Anaconda3\\\\envs\\\\bespoke\\\\lib\\\\asyncio\\\\base_events.py(601): run_forever\\nC:\\\\Users\\\\TheoA\\\\AppData\\\\Roaming\\\\Python\\\\Python39\\\\site-packages\\\\tornado\\\\platform\\\\asyncio.py(215): start\\nC:\\\\Users\\\\TheoA\\\\AppData\\\\Roaming\\\\Python\\\\Python39\\\\site-packages\\\\ipykernel\\\\kernelapp.py(711): start\\nC:\\\\Users\\\\TheoA\\\\AppData\\\\Roaming\\\\Python\\\\Python39\\\\site-packages\\\\traitlets\\\\config\\\\application.py(1041): launch_instance\\nC:\\\\Users\\\\TheoA\\\\AppData\\\\Roaming\\\\Python\\\\Python39\\\\site-packages\\\\ipykernel_launcher.py(17): <module>\\nc:\\\\Users\\\\TheoA\\\\Anaconda3\\\\envs\\\\bespoke\\\\lib\\\\runpy.py(87): _run_code\\nc:\\\\Users\\\\TheoA\\\\Anaconda3\\\\envs\\\\bespoke\\\\lib\\\\runpy.py(197): _run_module_as_main\\n\"\n",
      "\n",
      "input: \"/linear/Add_output_0\"\n",
      "output: \"6\"\n",
      "name: \"/relu/Relu\"\n",
      "op_type: \"Relu\"\n",
      "doc_string: \"C:\\\\Users\\\\TheoA\\\\AppData\\\\Roaming\\\\Python\\\\Python39\\\\site-packages\\\\torch\\\\nn\\\\functional.py(1457): relu\\nC:\\\\Users\\\\TheoA\\\\AppData\\\\Roaming\\\\Python\\\\Python39\\\\site-packages\\\\torch\\\\nn\\\\modules\\\\activation.py(103): forward\\nC:\\\\Users\\\\TheoA\\\\AppData\\\\Roaming\\\\Python\\\\Python39\\\\site-packages\\\\torch\\\\nn\\\\modules\\\\module.py(1488): _slow_forward\\nC:\\\\Users\\\\TheoA\\\\AppData\\\\Roaming\\\\Python\\\\Python39\\\\site-packages\\\\torch\\\\nn\\\\modules\\\\module.py(1501): _call_impl\\nC:\\\\Users\\\\TheoA\\\\AppData\\\\Local\\\\Temp\\\\ipykernel_37580\\\\3150438279.py(14): forward\\nC:\\\\Users\\\\TheoA\\\\AppData\\\\Roaming\\\\Python\\\\Python39\\\\site-packages\\\\torch\\\\nn\\\\modules\\\\module.py(1488): _slow_forward\\nC:\\\\Users\\\\TheoA\\\\AppData\\\\Roaming\\\\Python\\\\Python39\\\\site-packages\\\\torch\\\\nn\\\\modules\\\\module.py(1501): _call_impl\\nC:\\\\Users\\\\TheoA\\\\AppData\\\\Roaming\\\\Python\\\\Python39\\\\site-packages\\\\torch\\\\jit\\\\_trace.py(118): wrapper\\nC:\\\\Users\\\\TheoA\\\\AppData\\\\Roaming\\\\Python\\\\Python39\\\\site-packages\\\\torch\\\\jit\\\\_trace.py(127): forward\\nC:\\\\Users\\\\TheoA\\\\AppData\\\\Roaming\\\\Python\\\\Python39\\\\site-packages\\\\torch\\\\nn\\\\modules\\\\module.py(1501): _call_impl\\nC:\\\\Users\\\\TheoA\\\\AppData\\\\Roaming\\\\Python\\\\Python39\\\\site-packages\\\\torch\\\\jit\\\\_trace.py(1268): _get_trace_graph\\nC:\\\\Users\\\\TheoA\\\\AppData\\\\Roaming\\\\Python\\\\Python39\\\\site-packages\\\\torch\\\\onnx\\\\utils.py(893): _trace_and_get_graph_from_model\\nC:\\\\Users\\\\TheoA\\\\AppData\\\\Roaming\\\\Python\\\\Python39\\\\site-packages\\\\torch\\\\onnx\\\\utils.py(989): _create_jit_graph\\nC:\\\\Users\\\\TheoA\\\\AppData\\\\Roaming\\\\Python\\\\Python39\\\\site-packages\\\\torch\\\\onnx\\\\utils.py(1113): _model_to_graph\\nC:\\\\Users\\\\TheoA\\\\AppData\\\\Roaming\\\\Python\\\\Python39\\\\site-packages\\\\torch\\\\onnx\\\\utils.py(1548): _export\\nC:\\\\Users\\\\TheoA\\\\AppData\\\\Roaming\\\\Python\\\\Python39\\\\site-packages\\\\torch\\\\onnx\\\\utils.py(506): export\\nC:\\\\Users\\\\TheoA\\\\AppData\\\\Local\\\\Temp\\\\ipykernel_37580\\\\3150438279.py(17): <module>\\nC:\\\\Users\\\\TheoA\\\\AppData\\\\Roaming\\\\Python\\\\Python39\\\\site-packages\\\\IPython\\\\core\\\\interactiveshell.py(3433): run_code\\nC:\\\\Users\\\\TheoA\\\\AppData\\\\Roaming\\\\Python\\\\Python39\\\\site-packages\\\\IPython\\\\core\\\\interactiveshell.py(3373): run_ast_nodes\\nC:\\\\Users\\\\TheoA\\\\AppData\\\\Roaming\\\\Python\\\\Python39\\\\site-packages\\\\IPython\\\\core\\\\interactiveshell.py(3194): run_cell_async\\nC:\\\\Users\\\\TheoA\\\\AppData\\\\Roaming\\\\Python\\\\Python39\\\\site-packages\\\\IPython\\\\core\\\\async_helpers.py(129): _pseudo_sync_runner\\nC:\\\\Users\\\\TheoA\\\\AppData\\\\Roaming\\\\Python\\\\Python39\\\\site-packages\\\\IPython\\\\core\\\\interactiveshell.py(2995): _run_cell\\nC:\\\\Users\\\\TheoA\\\\AppData\\\\Roaming\\\\Python\\\\Python39\\\\site-packages\\\\IPython\\\\core\\\\interactiveshell.py(2940): run_cell\\nC:\\\\Users\\\\TheoA\\\\AppData\\\\Roaming\\\\Python\\\\Python39\\\\site-packages\\\\ipykernel\\\\zmqshell.py(530): run_cell\\nC:\\\\Users\\\\TheoA\\\\AppData\\\\Roaming\\\\Python\\\\Python39\\\\site-packages\\\\ipykernel\\\\ipkernel.py(411): do_execute\\nC:\\\\Users\\\\TheoA\\\\AppData\\\\Roaming\\\\Python\\\\Python39\\\\site-packages\\\\ipykernel\\\\kernelbase.py(729): execute_request\\nC:\\\\Users\\\\TheoA\\\\AppData\\\\Roaming\\\\Python\\\\Python39\\\\site-packages\\\\ipykernel\\\\kernelbase.py(406): dispatch_shell\\nC:\\\\Users\\\\TheoA\\\\AppData\\\\Roaming\\\\Python\\\\Python39\\\\site-packages\\\\ipykernel\\\\kernelbase.py(499): process_one\\nC:\\\\Users\\\\TheoA\\\\AppData\\\\Roaming\\\\Python\\\\Python39\\\\site-packages\\\\ipykernel\\\\kernelbase.py(510): dispatch_queue\\nc:\\\\Users\\\\TheoA\\\\Anaconda3\\\\envs\\\\bespoke\\\\lib\\\\asyncio\\\\events.py(80): _run\\nc:\\\\Users\\\\TheoA\\\\Anaconda3\\\\envs\\\\bespoke\\\\lib\\\\asyncio\\\\base_events.py(1905): _run_once\\nc:\\\\Users\\\\TheoA\\\\Anaconda3\\\\envs\\\\bespoke\\\\lib\\\\asyncio\\\\base_events.py(601): run_forever\\nC:\\\\Users\\\\TheoA\\\\AppData\\\\Roaming\\\\Python\\\\Python39\\\\site-packages\\\\tornado\\\\platform\\\\asyncio.py(215): start\\nC:\\\\Users\\\\TheoA\\\\AppData\\\\Roaming\\\\Python\\\\Python39\\\\site-packages\\\\ipykernel\\\\kernelapp.py(711): start\\nC:\\\\Users\\\\TheoA\\\\AppData\\\\Roaming\\\\Python\\\\Python39\\\\site-packages\\\\traitlets\\\\config\\\\application.py(1041): launch_instance\\nC:\\\\Users\\\\TheoA\\\\AppData\\\\Roaming\\\\Python\\\\Python39\\\\site-packages\\\\ipykernel_launcher.py(17): <module>\\nc:\\\\Users\\\\TheoA\\\\Anaconda3\\\\envs\\\\bespoke\\\\lib\\\\runpy.py(87): _run_code\\nc:\\\\Users\\\\TheoA\\\\Anaconda3\\\\envs\\\\bespoke\\\\lib\\\\runpy.py(197): _run_module_as_main\\n\"\n",
      "\n"
     ]
    }
   ],
   "source": [
    "for init in onnx_model.graph.initializer:\n",
    "    print(init)\n",
    "for node in onnx_model.graph.node:\n",
    "    print(node)"
   ]
  },
  {
   "cell_type": "code",
   "execution_count": 4,
   "metadata": {},
   "outputs": [
    {
     "data": {
      "text/plain": [
       "[8, 4]"
      ]
     },
     "execution_count": 4,
     "metadata": {},
     "output_type": "execute_result"
    }
   ],
   "source": [
    "init_node = onnx_model.graph.node[0]\n",
    "init_node.input[1]\n",
    "onnx_model.graph.initializer\n",
    "next(i for i in iter(onnx_model.graph.initializer) if i.name == \"onnx::MatMul_7\").dims"
   ]
  },
  {
   "cell_type": "code",
   "execution_count": 5,
   "metadata": {},
   "outputs": [
    {
     "name": "stdout",
     "output_type": "stream",
     "text": [
      "[vecfifo_0:[0, wr_data_0, rd_data_0, wr_en_0, rd_en_0, vecfifo_0_out_vec_valid_0, wrap_rd_0],\n",
      " mvprod_0:[in_data_ready_master, rd_data_0, wr_data_1, rd_en_0, wr_en_1, mvprod_0_out_vec_valid_0, wrap_rd_0],\n",
      " vecfifo_1:[0, wr_data_1, rd_data_1, wr_en_1, rd_en_1, vecfifo_1_out_vec_valid_1, 0],\n",
      " bias_0:[mvprod_0_out_vec_valid_0, rd_data_1, wr_data_2, rd_en_1, wr_en_2, bias_0_out_vec_valid_0],\n",
      " vecfifo_2:[0, wr_data_2, rd_data_2, wr_en_2, rd_en_2, vecfifo_2_out_vec_valid_2, 0],\n",
      " relu_0:[bias_0_out_vec_valid_0, rd_data_2, wr_data_3, rd_en_2, wr_en_3, relu_0_out_vec_valid_0],\n",
      " vecfifo_3:[0, wr_data_3, rd_data_3, wr_en_3, rd_en_3, vecfifo_3_out_vec_valid_3, 0]]\n"
     ]
    }
   ],
   "source": [
    "from compiler import parsemodel, fpgamodule\n",
    "spec = fpgamodule.FPGASpec(120, 1000, 10_000, 100_000)\n",
    "fpga_module = parsemodel.parse_model(onnx_model, 8, 4, spec)\n",
    "pprint(list(mod for mod in fpga_module.modules))"
   ]
  },
  {
   "cell_type": "code",
   "execution_count": 6,
   "metadata": {},
   "outputs": [],
   "source": [
    "fpga_module.alloc_regs()\n",
    "fpga_module.alloc_bram()\n",
    "sv = fpga_module.make_sv()\n",
    "with open(\"dummy_model.sv\", \"w\") as f:\n",
    "    f.write(sv)"
   ]
  }
 ],
 "metadata": {
  "kernelspec": {
   "display_name": "bespoke",
   "language": "python",
   "name": "python3"
  },
  "language_info": {
   "codemirror_mode": {
    "name": "ipython",
    "version": 3
   },
   "file_extension": ".py",
   "mimetype": "text/x-python",
   "name": "python",
   "nbconvert_exporter": "python",
   "pygments_lexer": "ipython3",
   "version": "3.9.18"
  }
 },
 "nbformat": 4,
 "nbformat_minor": 2
}
